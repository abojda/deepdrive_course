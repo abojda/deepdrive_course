{
 "cells": [
  {
   "cell_type": "markdown",
   "metadata": {
    "id": "L5DHHYu1UQIY"
   },
   "source": [
    "# Setup"
   ]
  },
  {
   "cell_type": "markdown",
   "metadata": {
    "id": "ywzS0HYCCJR3"
   },
   "source": [
    "**Download and install deepdrive_course repository when running in Google Colab (to have access to the libraries)**"
   ]
  },
  {
   "cell_type": "code",
   "execution_count": null,
   "metadata": {
    "id": "5KC6zGcGAPS5"
   },
   "outputs": [],
   "source": [
    "import sys\n",
    "\n",
    "in_colab = \"google.colab\" in sys.modules\n",
    "\n",
    "if in_colab:\n",
    "    !git clone https://github.com/abojda/deepdrive_course.git dd_course\n",
    "    !pip install dd_course/ -q"
   ]
  },
  {
   "cell_type": "code",
   "execution_count": null,
   "metadata": {},
   "outputs": [],
   "source": [
    "!pip install lightly"
   ]
  },
  {
   "cell_type": "code",
   "execution_count": 2,
   "metadata": {
    "id": "tZUsfbGgk9LO"
   },
   "outputs": [],
   "source": [
    "import timm\n",
    "import pytorch_lightning as pl"
   ]
  },
  {
   "cell_type": "markdown",
   "metadata": {
    "id": "ELmrDr1Bg93Y"
   },
   "source": [
    "## wandb login"
   ]
  },
  {
   "cell_type": "code",
   "execution_count": null,
   "metadata": {
    "id": "31_obIkog9S2"
   },
   "outputs": [],
   "source": [
    "import wandb\n",
    "\n",
    "wandb.login()"
   ]
  },
  {
   "cell_type": "markdown",
   "metadata": {
    "id": "jMICITOuIie0"
   },
   "source": [
    "# Config"
   ]
  },
  {
   "cell_type": "code",
   "execution_count": 4,
   "metadata": {
    "id": "cEfWZmPDGpd-"
   },
   "outputs": [],
   "source": [
    "config = dict(\n",
    "    project_name=\"stl10_ssl\",\n",
    "    run_name=\"simclr-onecycle_lr0.004\",\n",
    "    \n",
    "    image_size=96,\n",
    "    input_dim=2048,  # Resnet50 features have 2048 dimensions\n",
    "    hidden_dim=2048,\n",
    "    output_dim=128,\n",
    "\n",
    "    timm_model=\"resnet50\",\n",
    "    timm_dropout=0.3,\n",
    "\n",
    "    epochs=30,\n",
    "    batch_size=64,\n",
    "    lr=4e-3,\n",
    "    seed=42,\n",
    "\n",
    "    optimizer=\"Adam\",\n",
    "    # optimizer = \"RMSprop\",\n",
    "    optimizer_kwargs={},\n",
    ")\n",
    "\n",
    "scheduler_config = dict(\n",
    "    # scheduler = None,\n",
    "    # scheduler_interval = \"step\",\n",
    "    # scheduler_kwargs = {}\n",
    "\n",
    "    scheduler=\"OneCycleLR\",\n",
    "    scheduler_interval=\"step\",\n",
    "    scheduler_kwargs=dict(\n",
    "        epochs=config[\"epochs\"],\n",
    "        max_lr=config[\"lr\"],\n",
    "        # steps_per_epoch is updated after training DataLoader instantiation\n",
    "    ),\n",
    ")\n",
    "\n",
    "config.update(**scheduler_config)"
   ]
  },
  {
   "cell_type": "markdown",
   "metadata": {
    "id": "AogJQnXHAfFc"
   },
   "source": [
    "# Prepare data"
   ]
  },
  {
   "cell_type": "markdown",
   "metadata": {
    "id": "mAjLUpcm6bOO"
   },
   "source": [
    "## Initialize datasets"
   ]
  },
  {
   "cell_type": "code",
   "execution_count": 5,
   "metadata": {
    "colab": {
     "base_uri": "https://localhost:8080/"
    },
    "id": "3LDfBEsq9T6J",
    "outputId": "8a5d67dc-7104-4226-cb79-d85d6bd289ed"
   },
   "outputs": [
    {
     "name": "stdout",
     "output_type": "stream",
     "text": [
      "Downloading http://ai.stanford.edu/~acoates/stl10/stl10_binary.tar.gz to stl10_data/stl10_binary.tar.gz\n"
     ]
    },
    {
     "name": "stderr",
     "output_type": "stream",
     "text": [
      "100%|██████████| 2640397119/2640397119 [02:14<00:00, 19684917.03it/s]\n"
     ]
    },
    {
     "name": "stdout",
     "output_type": "stream",
     "text": [
      "Extracting stl10_data/stl10_binary.tar.gz to stl10_data\n",
      "Files already downloaded and verified\n"
     ]
    }
   ],
   "source": [
    "from torchvision.datasets import STL10\n",
    "from lightly.data import LightlyDataset\n",
    "from lightly.data import SimCLRCollateFunction\n",
    "\n",
    "root = \"stl10_data\"\n",
    "\n",
    "# Torchvision datasets\n",
    "unlabeled_ds_base = STL10(root=root, split=\"unlabeled\", download=True)\n",
    "\n",
    "test_ds_base = STL10(root=root, split=\"test\", download=True)\n",
    "\n",
    "# SimCLR dataset\n",
    "unlabeled_ds_simclr = LightlyDataset.from_torch_dataset(unlabeled_ds_base)\n",
    "test_ds_simclr = LightlyDataset.from_torch_dataset(test_ds_base)"
   ]
  },
  {
   "cell_type": "markdown",
   "metadata": {
    "id": "DEYmlmVUeHn0"
   },
   "source": [
    "## Reproducibility"
   ]
  },
  {
   "cell_type": "code",
   "execution_count": null,
   "metadata": {
    "id": "xadK0gA6eKN9"
   },
   "outputs": [],
   "source": [
    "from pytorch_lightning import seed_everything\n",
    "\n",
    "seed_everything(config[\"seed\"])"
   ]
  },
  {
   "cell_type": "markdown",
   "metadata": {
    "id": "ugNjIAuiIAX3"
   },
   "source": [
    "## Initialize dataloader\n",
    "SimCLRCollateFunction by default performs Imagenet normalization"
   ]
  },
  {
   "cell_type": "code",
   "execution_count": null,
   "metadata": {
    "id": "6DxILCY_ICfj"
   },
   "outputs": [],
   "source": [
    "from torch.utils.data import DataLoader\n",
    "import multiprocessing\n",
    "\n",
    "collate_fn_simclr = SimCLRCollateFunction(\n",
    "    input_size=config[\"image_size\"], vf_prob=0.5, rr_prob=0.5\n",
    ")\n",
    "\n",
    "unlabeled_dl_simclr = DataLoader(\n",
    "    unlabeled_ds_simclr,\n",
    "    batch_size=config[\"batch_size\"],\n",
    "    collate_fn=collate_fn_simclr,\n",
    "    shuffle=True,\n",
    "    drop_last=True,\n",
    "    num_workers=multiprocessing.cpu_count(),\n",
    "    pin_memory=True,\n",
    ")\n",
    "\n",
    "test_dl_simclr = DataLoader(\n",
    "    test_ds_simclr,\n",
    "    batch_size=config[\"batch_size\"],\n",
    "    collate_fn=collate_fn_simclr,\n",
    "    shuffle=False,\n",
    "    drop_last=True,\n",
    "    num_workers=multiprocessing.cpu_count(),\n",
    "    pin_memory=True,\n",
    ")\n",
    "\n",
    "# Update steps_per_epoch in configuration dictionary\n",
    "config[\"scheduler_kwargs\"][\"steps_per_epoch\"] = len(unlabeled_dl_simclr)\n",
    "print(config[\"scheduler_kwargs\"][\"steps_per_epoch\"])"
   ]
  },
  {
   "cell_type": "markdown",
   "metadata": {
    "id": "A4DkEgr8-JSs"
   },
   "source": [
    "# Models"
   ]
  },
  {
   "cell_type": "markdown",
   "metadata": {
    "id": "ABvPg0PefGdT"
   },
   "source": [
    "## Instantiate model"
   ]
  },
  {
   "cell_type": "code",
   "execution_count": null,
   "metadata": {
    "id": "TJou8KeHfItI"
   },
   "outputs": [],
   "source": [
    "from deepdrive_course.stl10.modules import LitSimCLR\n",
    "\n",
    "# We don't use pretrained model. STL10 dataset contains images from Imagenet, so that would be cheating!\n",
    "\n",
    "backbone = timm.create_model(\n",
    "    config[\"timm_model\"],\n",
    "    num_classes=0,\n",
    "    pretrained=False,\n",
    "    drop_rate=config[\"timm_dropout\"],\n",
    ")\n",
    "\n",
    "simclr_model = LitSimCLR(backbone, config)"
   ]
  },
  {
   "cell_type": "markdown",
   "metadata": {
    "id": "Q94Xme3od6Sx"
   },
   "source": [
    "# Training"
   ]
  },
  {
   "cell_type": "markdown",
   "metadata": {
    "id": "I9fKtORmXTL3"
   },
   "source": [
    "## Define callbacks"
   ]
  },
  {
   "cell_type": "code",
   "execution_count": 9,
   "metadata": {
    "id": "nAjM9ATAXUik"
   },
   "outputs": [],
   "source": [
    "from pytorch_lightning.callbacks import (\n",
    "    EarlyStopping,\n",
    "    LearningRateMonitor,\n",
    "    ModelCheckpoint,\n",
    ")\n",
    "\n",
    "checkpoint_cb = ModelCheckpoint(\n",
    "    monitor=\"val_loss_ssl\",\n",
    "    save_top_k=3,\n",
    "    dirpath=f'{config[\"project_name\"]}/best/{config[\"run_name\"]}',\n",
    "    filename=\"{epoch}-{val_loss_ssl:.2f}\",\n",
    ")\n",
    "\n",
    "lr_monitor_cb = LearningRateMonitor(logging_interval=\"step\")\n",
    "\n",
    "callbacks = [\n",
    "    checkpoint_cb,\n",
    "    lr_monitor_cb,\n",
    "]"
   ]
  },
  {
   "cell_type": "markdown",
   "metadata": {
    "id": "25haowUxeoxZ"
   },
   "source": [
    "## Training and validation loops"
   ]
  },
  {
   "cell_type": "code",
   "execution_count": null,
   "metadata": {
    "id": "FtMTjLaye41p"
   },
   "outputs": [],
   "source": [
    "from pytorch_lightning.loggers import WandbLogger\n",
    "\n",
    "# Define logger\n",
    "logger = WandbLogger(project=config[\"project_name\"], name=config[\"run_name\"])\n",
    "logger.experiment.config.update(config)\n",
    "\n",
    "# Setup summary metrics\n",
    "logger.experiment.define_metric(\"train_loss_ssl\", summary=\"min\")\n",
    "logger.experiment.define_metric(\"val_loss_ssl\", summary=\"min\")\n",
    "\n",
    "try:\n",
    "    trainer = pl.Trainer(\n",
    "        max_epochs=config[\"epochs\"],\n",
    "        logger=logger,\n",
    "        callbacks=callbacks,\n",
    "        num_sanity_val_steps=0,\n",
    "    )\n",
    "\n",
    "    trainer.fit(simclr_model, unlabeled_dl_simclr, test_dl_simclr)\n",
    "finally:\n",
    "    wandb.finish()"
   ]
  }
 ],
 "metadata": {
  "accelerator": "GPU",
  "colab": {
   "gpuType": "V100",
   "machine_shape": "hm",
   "provenance": []
  },
  "kernelspec": {
   "display_name": "Python 3",
   "language": "python",
   "name": "python3"
  },
  "language_info": {
   "codemirror_mode": {
    "name": "ipython",
    "version": 3
   },
   "file_extension": ".py",
   "mimetype": "text/x-python",
   "name": "python",
   "nbconvert_exporter": "python",
   "pygments_lexer": "ipython3",
   "version": "3.6.9"
  }
 },
 "nbformat": 4,
 "nbformat_minor": 1
}
