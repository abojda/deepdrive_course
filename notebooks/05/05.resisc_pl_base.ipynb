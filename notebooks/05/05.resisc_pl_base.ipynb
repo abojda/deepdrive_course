{
 "cells": [
  {
   "attachments": {},
   "cell_type": "markdown",
   "metadata": {
    "id": "L5DHHYu1UQIY"
   },
   "source": [
    "# Setup"
   ]
  },
  {
   "attachments": {},
   "cell_type": "markdown",
   "metadata": {
    "id": "ywzS0HYCCJR3"
   },
   "source": [
    "**Download deepdrive_course repository when running in Google Colab (to have access to libraries)**"
   ]
  },
  {
   "cell_type": "code",
   "execution_count": null,
   "metadata": {
    "id": "5KC6zGcGAPS5"
   },
   "outputs": [],
   "source": [
    "import sys\n",
    "\n",
    "in_colab = \"google.colab\" in sys.modules\n",
    "\n",
    "if in_colab:\n",
    "  !git clone https://github.com/abojda/deepdrive_course.git dd_course\n",
    "  !pip install dd_course/ -q"
   ]
  },
  {
   "cell_type": "code",
   "execution_count": 2,
   "metadata": {
    "id": "f7D9wfnibxAK"
   },
   "outputs": [],
   "source": [
    "!python3 -m pip install pytorch-lightning timm opencv-python gdown patool mega.py -q"
   ]
  },
  {
   "cell_type": "code",
   "execution_count": 3,
   "metadata": {
    "id": "tZUsfbGgk9LO"
   },
   "outputs": [],
   "source": [
    "import timm\n",
    "import pytorch_lightning as pl"
   ]
  },
  {
   "attachments": {},
   "cell_type": "markdown",
   "metadata": {
    "id": "ELmrDr1Bg93Y"
   },
   "source": [
    "## wandb login"
   ]
  },
  {
   "cell_type": "code",
   "execution_count": null,
   "metadata": {
    "id": "31_obIkog9S2"
   },
   "outputs": [],
   "source": [
    "import wandb\n",
    "\n",
    "wandb.login()"
   ]
  },
  {
   "attachments": {},
   "cell_type": "markdown",
   "metadata": {
    "id": "EAFYmn77yWOw"
   },
   "source": [
    "# Config"
   ]
  },
  {
   "cell_type": "code",
   "execution_count": 5,
   "metadata": {
    "id": "0fRz2Jc-yXPb"
   },
   "outputs": [],
   "source": [
    "from deepdrive_course.resisc45.datasets import RESISC45\n",
    "\n",
    "config = dict(\n",
    "    project_name = \"resisc\",\n",
    "    run_name = \"resnet50-tl-ft_lr0.0001\",\n",
    "    classes = RESISC45.classes,\n",
    "\n",
    "    # training_type = \"full\",\n",
    "    training_type = \"transfer_learning\",\n",
    "\n",
    "    # checkpoint = None,\n",
    "    # checkpoint = \"resnet50-epoch=19-val_loss=0.53.ckpt\",\n",
    "    checkpoint = \"https://mega.nz/file/I2MRUISK#LwBDkviM1z-Gr2E643t16hBGOAdz5szzAMhSYof8Bts\", # resnet50-epoch=19-val_loss=0.53.ckpt\n",
    "\n",
    "    timm_model = \"resnet50\",\n",
    "    timm_pretrained = True,\n",
    "    timm_dropout = 0.0,\n",
    "\n",
    "    epochs = 20,\n",
    "    batch_size = 64,\n",
    "    lr = 1e-4,\n",
    "    seed = 42,\n",
    "\n",
    "    optimizer = \"Adam\",\n",
    "    # optimizer = \"RMSprop\",\n",
    "    optimizer_kwargs = {},\n",
    "\n",
    "    scheduler = None,\n",
    "    scheduler_interval = \"step\",\n",
    "    scheduler_kwargs = {},\n",
    "\n",
    "    albumentations = False,\n",
    ")"
   ]
  },
  {
   "attachments": {},
   "cell_type": "markdown",
   "metadata": {
    "id": "MKkkQ3dZv012"
   },
   "source": [
    "# Load model"
   ]
  },
  {
   "cell_type": "code",
   "execution_count": 6,
   "metadata": {
    "colab": {
     "base_uri": "https://localhost:8080/",
     "height": 84,
     "referenced_widgets": [
      "fa705219bef64695847d403431e1bfa1",
      "2fe65a341a3b417fa56a484405bdf01b",
      "c1612866952c4d2d8202d709a4a280f9",
      "f2b66701458148a1bd73759008a03109",
      "1823b945474c45478832941380ddc009",
      "3def62040517481e89b396f1527f215d",
      "a0caf2a5cb5c4511ba19c13e7fa1bd43",
      "eb65ff67ea45427bb24f953ed31cdc91",
      "d93701a8b8c24039bed91a21c0aaadcd",
      "b69a8a644ba844f48f9562ba29368d7b",
      "c4d77cf4addf42d4b3e28ff3c70c0511"
     ]
    },
    "id": "9EonaNwiv3FI",
    "outputId": "da2b4ffa-4f93-48b5-e80f-b72607c3cfee"
   },
   "outputs": [
    {
     "data": {
      "application/vnd.jupyter.widget-view+json": {
       "model_id": "fa705219bef64695847d403431e1bfa1",
       "version_major": 2,
       "version_minor": 0
      },
      "text/plain": [
       "Downloading model.safetensors:   0%|          | 0.00/102M [00:00<?, ?B/s]"
      ]
     },
     "metadata": {},
     "output_type": "display_data"
    },
    {
     "name": "stdout",
     "output_type": "stream",
     "text": [
      "[ResiscLit] Loaded mega.nz checkpoint: resnet50-epoch=19-val_loss=0.53.ckpt\n",
      "Training type: full\n"
     ]
    }
   ],
   "source": [
    "from deepdrive_course.resisc45.modules import ResiscLit\n",
    "from deepdrive_course.utils import (\n",
    "    download_from_mega_nz,\n",
    "    timm_prepare_params_for_training,\n",
    ")\n",
    "\n",
    "\n",
    "# Create TIMM model\n",
    "timm_model = timm.create_model(\n",
    "    config[\"timm_model\"],\n",
    "    pretrained=config[\"timm_pretrained\"],\n",
    "    num_classes=len(RESISC45.classes),\n",
    "    drop_rate=config[\"timm_dropout\"],\n",
    ")\n",
    "\n",
    "\n",
    "# Create ResiscLit (pl.LightningModule)\n",
    "if config[\"checkpoint\"] is None:\n",
    "    model = ResiscLit(timm_model, config)\n",
    "    print(\"[ResiscLit] No checkpoint - training from scratch\")\n",
    "\n",
    "elif config[\"checkpoint\"].endswith(\".ckpt\"):\n",
    "    model = ResiscLit.load_from_checkpoint(\n",
    "        config[\"checkpoint\"], model=timm_model, config=config\n",
    "    )\n",
    "\n",
    "    print(f'[ResiscLit] Loaded local checkpoint: {config[\"checkpoint\"]}')\n",
    "\n",
    "elif \"mega.nz\" in config[\"checkpoint\"]:\n",
    "    checkpoint_path = download_from_mega_nz(config[\"checkpoint\"])\n",
    "\n",
    "    model = ResiscLit.load_from_checkpoint(\n",
    "        checkpoint_path, model=timm_model, config=config\n",
    "    )\n",
    "\n",
    "    print(f\"[ResiscLit] Loaded mega.nz checkpoint: {checkpoint_path}\")\n",
    "\n",
    "else:\n",
    "    raise ValueError(config[\"checkpoint\"])\n",
    "\n",
    "\n",
    "# Transfer learning / full training setup\n",
    "timm_prepare_params_for_training(model.model, config[\"training_type\"])\n",
    "print(f'Training type: {config[\"training_type\"]}')"
   ]
  },
  {
   "attachments": {},
   "cell_type": "markdown",
   "metadata": {
    "id": "hLkoRplga3H6"
   },
   "source": [
    "## Print model summary"
   ]
  },
  {
   "cell_type": "code",
   "execution_count": 7,
   "metadata": {
    "colab": {
     "base_uri": "https://localhost:8080/"
    },
    "id": "BQ5g-VfnaMZ4",
    "outputId": "06ef199a-e543-48e7-f0ea-b912041d2aed"
   },
   "outputs": [
    {
     "name": "stdout",
     "output_type": "stream",
     "text": [
      "  | Name  | Type   | Params\n",
      "---------------------------------\n",
      "0 | model | ResNet | 23.6 M\n",
      "---------------------------------\n",
      "23.6 M    Trainable params\n",
      "0         Non-trainable params\n",
      "23.6 M    Total params\n",
      "94.401    Total estimated model params size (MB)\n"
     ]
    }
   ],
   "source": [
    "from deepdrive_course.utils import pl_print_model_summary, pl_find_max_batch_size\n",
    "\n",
    "pl_print_model_summary(model, depth=1)\n",
    "# pl_find_max_batch_size(model)"
   ]
  },
  {
   "attachments": {},
   "cell_type": "markdown",
   "metadata": {
    "id": "TMGF6noMw4KL"
   },
   "source": [
    "# Training and validation"
   ]
  },
  {
   "attachments": {},
   "cell_type": "markdown",
   "metadata": {
    "id": "UeouE0M8E4Th"
   },
   "source": [
    "## Reproducibility"
   ]
  },
  {
   "cell_type": "code",
   "execution_count": null,
   "metadata": {
    "id": "pzgpqdO1E7hI"
   },
   "outputs": [],
   "source": [
    "pl.seed_everything(config[\"seed\"])"
   ]
  },
  {
   "attachments": {},
   "cell_type": "markdown",
   "metadata": {
    "id": "_zeqKxi1kYsY"
   },
   "source": [
    "## Setup datamodule"
   ]
  },
  {
   "cell_type": "code",
   "execution_count": 9,
   "metadata": {
    "id": "RcIbv79Mkabc"
   },
   "outputs": [],
   "source": [
    "from deepdrive_course.resisc45.datamodules import RESISC45DataModule\n",
    "from deepdrive_course.utils import timm_get_pretrained_data_transform\n",
    "\n",
    "transform = timm_get_pretrained_data_transform(model.model)\n",
    "\n",
    "datamodule = RESISC45DataModule(\n",
    "    root=\"data\",\n",
    "    batch_size=config[\"batch_size\"],\n",
    "    train_transform=transform,\n",
    "    test_transform=transform,\n",
    ")"
   ]
  },
  {
   "attachments": {},
   "cell_type": "markdown",
   "metadata": {
    "id": "Y1Wc9s9skOQC"
   },
   "source": [
    "## Define callbacks"
   ]
  },
  {
   "cell_type": "code",
   "execution_count": 10,
   "metadata": {
    "id": "OddHzbei1w_-"
   },
   "outputs": [],
   "source": [
    "from pytorch_lightning.callbacks import (\n",
    "    EarlyStopping,\n",
    "    LearningRateMonitor,\n",
    "    ModelCheckpoint,\n",
    ")\n",
    "\n",
    "early_stopping_cb = EarlyStopping(\n",
    "    monitor=\"val_loss\", mode=\"min\", patience=10, check_on_train_epoch_end=False\n",
    ")\n",
    "\n",
    "checkpoint_cb = ModelCheckpoint(\n",
    "    monitor=\"val_loss\",\n",
    "    save_top_k=3,\n",
    "    dirpath=f'{config[\"project_name\"]}/best/{config[\"run_name\"]}',\n",
    "    filename=\"{epoch}-{val_loss:.2f}\",\n",
    ")\n",
    "\n",
    "lr_monitor_cb = LearningRateMonitor(logging_interval=\"step\")\n",
    "\n",
    "callbacks = [\n",
    "    # early_stopping_cb,\n",
    "    checkpoint_cb,\n",
    "    lr_monitor_cb,\n",
    "]"
   ]
  },
  {
   "attachments": {},
   "cell_type": "markdown",
   "metadata": {
    "id": "z53WqlOblSth"
   },
   "source": [
    "## Training and validation loops"
   ]
  },
  {
   "cell_type": "code",
   "execution_count": null,
   "metadata": {
    "id": "5UndFuss0V4m"
   },
   "outputs": [],
   "source": [
    "from pytorch_lightning.loggers import WandbLogger\n",
    "\n",
    "logger = WandbLogger(project=config[\"project_name\"], name=config[\"run_name\"])\n",
    "logger.experiment.config.update(config)\n",
    "logger.experiment.config[\"model\"] = model\n",
    "\n",
    "# Setup summary metrics\n",
    "logger.experiment.define_metric(\"val_loss\", summary=\"min\")\n",
    "logger.experiment.define_metric(\"val_acc\", summary=\"max\")\n",
    "logger.experiment.define_metric(\"val_f1_score\", summary=\"max\")\n",
    "\n",
    "\n",
    "try:\n",
    "    trainer = pl.Trainer(\n",
    "        max_epochs=config[\"epochs\"],\n",
    "        logger=logger,\n",
    "        callbacks=callbacks,\n",
    "        num_sanity_val_steps=0,\n",
    "    )\n",
    "    trainer.fit(model, datamodule=datamodule)\n",
    "finally:\n",
    "    wandb.finish()"
   ]
  }
 ],
 "metadata": {
  "accelerator": "GPU",
  "colab": {
   "gpuType": "T4",
   "provenance": []
  },
  "kernelspec": {
   "display_name": "Python 3 (ipykernel)",
   "language": "python",
   "name": "python3"
  },
  "language_info": {
   "codemirror_mode": {
    "name": "ipython",
    "version": 3
   },
   "file_extension": ".py",
   "mimetype": "text/x-python",
   "name": "python",
   "nbconvert_exporter": "python",
   "pygments_lexer": "ipython3",
   "version": "3.10.6"
  },
  "widgets": {
   "application/vnd.jupyter.widget-state+json": {
    "1823b945474c45478832941380ddc009": {
     "model_module": "@jupyter-widgets/base",
     "model_module_version": "1.2.0",
     "model_name": "LayoutModel",
     "state": {
      "_model_module": "@jupyter-widgets/base",
      "_model_module_version": "1.2.0",
      "_model_name": "LayoutModel",
      "_view_count": null,
      "_view_module": "@jupyter-widgets/base",
      "_view_module_version": "1.2.0",
      "_view_name": "LayoutView",
      "align_content": null,
      "align_items": null,
      "align_self": null,
      "border": null,
      "bottom": null,
      "display": null,
      "flex": null,
      "flex_flow": null,
      "grid_area": null,
      "grid_auto_columns": null,
      "grid_auto_flow": null,
      "grid_auto_rows": null,
      "grid_column": null,
      "grid_gap": null,
      "grid_row": null,
      "grid_template_areas": null,
      "grid_template_columns": null,
      "grid_template_rows": null,
      "height": null,
      "justify_content": null,
      "justify_items": null,
      "left": null,
      "margin": null,
      "max_height": null,
      "max_width": null,
      "min_height": null,
      "min_width": null,
      "object_fit": null,
      "object_position": null,
      "order": null,
      "overflow": null,
      "overflow_x": null,
      "overflow_y": null,
      "padding": null,
      "right": null,
      "top": null,
      "visibility": null,
      "width": null
     }
    },
    "2fe65a341a3b417fa56a484405bdf01b": {
     "model_module": "@jupyter-widgets/controls",
     "model_module_version": "1.5.0",
     "model_name": "HTMLModel",
     "state": {
      "_dom_classes": [],
      "_model_module": "@jupyter-widgets/controls",
      "_model_module_version": "1.5.0",
      "_model_name": "HTMLModel",
      "_view_count": null,
      "_view_module": "@jupyter-widgets/controls",
      "_view_module_version": "1.5.0",
      "_view_name": "HTMLView",
      "description": "",
      "description_tooltip": null,
      "layout": "IPY_MODEL_3def62040517481e89b396f1527f215d",
      "placeholder": "​",
      "style": "IPY_MODEL_a0caf2a5cb5c4511ba19c13e7fa1bd43",
      "value": "Downloading model.safetensors: 100%"
     }
    },
    "3def62040517481e89b396f1527f215d": {
     "model_module": "@jupyter-widgets/base",
     "model_module_version": "1.2.0",
     "model_name": "LayoutModel",
     "state": {
      "_model_module": "@jupyter-widgets/base",
      "_model_module_version": "1.2.0",
      "_model_name": "LayoutModel",
      "_view_count": null,
      "_view_module": "@jupyter-widgets/base",
      "_view_module_version": "1.2.0",
      "_view_name": "LayoutView",
      "align_content": null,
      "align_items": null,
      "align_self": null,
      "border": null,
      "bottom": null,
      "display": null,
      "flex": null,
      "flex_flow": null,
      "grid_area": null,
      "grid_auto_columns": null,
      "grid_auto_flow": null,
      "grid_auto_rows": null,
      "grid_column": null,
      "grid_gap": null,
      "grid_row": null,
      "grid_template_areas": null,
      "grid_template_columns": null,
      "grid_template_rows": null,
      "height": null,
      "justify_content": null,
      "justify_items": null,
      "left": null,
      "margin": null,
      "max_height": null,
      "max_width": null,
      "min_height": null,
      "min_width": null,
      "object_fit": null,
      "object_position": null,
      "order": null,
      "overflow": null,
      "overflow_x": null,
      "overflow_y": null,
      "padding": null,
      "right": null,
      "top": null,
      "visibility": null,
      "width": null
     }
    },
    "a0caf2a5cb5c4511ba19c13e7fa1bd43": {
     "model_module": "@jupyter-widgets/controls",
     "model_module_version": "1.5.0",
     "model_name": "DescriptionStyleModel",
     "state": {
      "_model_module": "@jupyter-widgets/controls",
      "_model_module_version": "1.5.0",
      "_model_name": "DescriptionStyleModel",
      "_view_count": null,
      "_view_module": "@jupyter-widgets/base",
      "_view_module_version": "1.2.0",
      "_view_name": "StyleView",
      "description_width": ""
     }
    },
    "b69a8a644ba844f48f9562ba29368d7b": {
     "model_module": "@jupyter-widgets/base",
     "model_module_version": "1.2.0",
     "model_name": "LayoutModel",
     "state": {
      "_model_module": "@jupyter-widgets/base",
      "_model_module_version": "1.2.0",
      "_model_name": "LayoutModel",
      "_view_count": null,
      "_view_module": "@jupyter-widgets/base",
      "_view_module_version": "1.2.0",
      "_view_name": "LayoutView",
      "align_content": null,
      "align_items": null,
      "align_self": null,
      "border": null,
      "bottom": null,
      "display": null,
      "flex": null,
      "flex_flow": null,
      "grid_area": null,
      "grid_auto_columns": null,
      "grid_auto_flow": null,
      "grid_auto_rows": null,
      "grid_column": null,
      "grid_gap": null,
      "grid_row": null,
      "grid_template_areas": null,
      "grid_template_columns": null,
      "grid_template_rows": null,
      "height": null,
      "justify_content": null,
      "justify_items": null,
      "left": null,
      "margin": null,
      "max_height": null,
      "max_width": null,
      "min_height": null,
      "min_width": null,
      "object_fit": null,
      "object_position": null,
      "order": null,
      "overflow": null,
      "overflow_x": null,
      "overflow_y": null,
      "padding": null,
      "right": null,
      "top": null,
      "visibility": null,
      "width": null
     }
    },
    "c1612866952c4d2d8202d709a4a280f9": {
     "model_module": "@jupyter-widgets/controls",
     "model_module_version": "1.5.0",
     "model_name": "FloatProgressModel",
     "state": {
      "_dom_classes": [],
      "_model_module": "@jupyter-widgets/controls",
      "_model_module_version": "1.5.0",
      "_model_name": "FloatProgressModel",
      "_view_count": null,
      "_view_module": "@jupyter-widgets/controls",
      "_view_module_version": "1.5.0",
      "_view_name": "ProgressView",
      "bar_style": "success",
      "description": "",
      "description_tooltip": null,
      "layout": "IPY_MODEL_eb65ff67ea45427bb24f953ed31cdc91",
      "max": 102469840,
      "min": 0,
      "orientation": "horizontal",
      "style": "IPY_MODEL_d93701a8b8c24039bed91a21c0aaadcd",
      "value": 102469840
     }
    },
    "c4d77cf4addf42d4b3e28ff3c70c0511": {
     "model_module": "@jupyter-widgets/controls",
     "model_module_version": "1.5.0",
     "model_name": "DescriptionStyleModel",
     "state": {
      "_model_module": "@jupyter-widgets/controls",
      "_model_module_version": "1.5.0",
      "_model_name": "DescriptionStyleModel",
      "_view_count": null,
      "_view_module": "@jupyter-widgets/base",
      "_view_module_version": "1.2.0",
      "_view_name": "StyleView",
      "description_width": ""
     }
    },
    "d93701a8b8c24039bed91a21c0aaadcd": {
     "model_module": "@jupyter-widgets/controls",
     "model_module_version": "1.5.0",
     "model_name": "ProgressStyleModel",
     "state": {
      "_model_module": "@jupyter-widgets/controls",
      "_model_module_version": "1.5.0",
      "_model_name": "ProgressStyleModel",
      "_view_count": null,
      "_view_module": "@jupyter-widgets/base",
      "_view_module_version": "1.2.0",
      "_view_name": "StyleView",
      "bar_color": null,
      "description_width": ""
     }
    },
    "eb65ff67ea45427bb24f953ed31cdc91": {
     "model_module": "@jupyter-widgets/base",
     "model_module_version": "1.2.0",
     "model_name": "LayoutModel",
     "state": {
      "_model_module": "@jupyter-widgets/base",
      "_model_module_version": "1.2.0",
      "_model_name": "LayoutModel",
      "_view_count": null,
      "_view_module": "@jupyter-widgets/base",
      "_view_module_version": "1.2.0",
      "_view_name": "LayoutView",
      "align_content": null,
      "align_items": null,
      "align_self": null,
      "border": null,
      "bottom": null,
      "display": null,
      "flex": null,
      "flex_flow": null,
      "grid_area": null,
      "grid_auto_columns": null,
      "grid_auto_flow": null,
      "grid_auto_rows": null,
      "grid_column": null,
      "grid_gap": null,
      "grid_row": null,
      "grid_template_areas": null,
      "grid_template_columns": null,
      "grid_template_rows": null,
      "height": null,
      "justify_content": null,
      "justify_items": null,
      "left": null,
      "margin": null,
      "max_height": null,
      "max_width": null,
      "min_height": null,
      "min_width": null,
      "object_fit": null,
      "object_position": null,
      "order": null,
      "overflow": null,
      "overflow_x": null,
      "overflow_y": null,
      "padding": null,
      "right": null,
      "top": null,
      "visibility": null,
      "width": null
     }
    },
    "f2b66701458148a1bd73759008a03109": {
     "model_module": "@jupyter-widgets/controls",
     "model_module_version": "1.5.0",
     "model_name": "HTMLModel",
     "state": {
      "_dom_classes": [],
      "_model_module": "@jupyter-widgets/controls",
      "_model_module_version": "1.5.0",
      "_model_name": "HTMLModel",
      "_view_count": null,
      "_view_module": "@jupyter-widgets/controls",
      "_view_module_version": "1.5.0",
      "_view_name": "HTMLView",
      "description": "",
      "description_tooltip": null,
      "layout": "IPY_MODEL_b69a8a644ba844f48f9562ba29368d7b",
      "placeholder": "​",
      "style": "IPY_MODEL_c4d77cf4addf42d4b3e28ff3c70c0511",
      "value": " 102M/102M [00:00&lt;00:00, 279MB/s]"
     }
    },
    "fa705219bef64695847d403431e1bfa1": {
     "model_module": "@jupyter-widgets/controls",
     "model_module_version": "1.5.0",
     "model_name": "HBoxModel",
     "state": {
      "_dom_classes": [],
      "_model_module": "@jupyter-widgets/controls",
      "_model_module_version": "1.5.0",
      "_model_name": "HBoxModel",
      "_view_count": null,
      "_view_module": "@jupyter-widgets/controls",
      "_view_module_version": "1.5.0",
      "_view_name": "HBoxView",
      "box_style": "",
      "children": [
       "IPY_MODEL_2fe65a341a3b417fa56a484405bdf01b",
       "IPY_MODEL_c1612866952c4d2d8202d709a4a280f9",
       "IPY_MODEL_f2b66701458148a1bd73759008a03109"
      ],
      "layout": "IPY_MODEL_1823b945474c45478832941380ddc009"
     }
    }
   }
  }
 },
 "nbformat": 4,
 "nbformat_minor": 1
}
