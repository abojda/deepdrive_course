{
 "cells": [
  {
   "cell_type": "markdown",
   "metadata": {
    "id": "L5DHHYu1UQIY"
   },
   "source": [
    "# Setup"
   ]
  },
  {
   "cell_type": "markdown",
   "metadata": {
    "id": "ywzS0HYCCJR3"
   },
   "source": [
    "**Download deepdrive_course repository when running in Google Colab (to have access to libraries)**"
   ]
  },
  {
   "cell_type": "code",
   "execution_count": null,
   "metadata": {
    "id": "5KC6zGcGAPS5"
   },
   "outputs": [],
   "source": [
    "import sys\n",
    "\n",
    "in_colab = \"google.colab\" in sys.modules\n",
    "\n",
    "if in_colab:\n",
    "  !git clone https://github.com/abojda/deepdrive_course.git dd_course\n",
    "  !pip install dd_course/ -q"
   ]
  },
  {
   "cell_type": "code",
   "execution_count": 15,
   "metadata": {
    "id": "f7D9wfnibxAK"
   },
   "outputs": [],
   "source": [
    "!python3 -m pip install einops wandb pytorch-lightning seaborn matplotlib -qU"
   ]
  },
  {
   "cell_type": "markdown",
   "metadata": {
    "id": "ELmrDr1Bg93Y"
   },
   "source": [
    "## wandb login"
   ]
  },
  {
   "cell_type": "code",
   "execution_count": null,
   "metadata": {
    "id": "31_obIkog9S2"
   },
   "outputs": [],
   "source": [
    "import wandb\n",
    "\n",
    "wandb.login()"
   ]
  },
  {
   "cell_type": "markdown",
   "metadata": {
    "id": "shbLTQwBUXzn"
   },
   "source": [
    "## Main imports"
   ]
  },
  {
   "cell_type": "code",
   "execution_count": 17,
   "metadata": {
    "id": "4dIE3yCLUG6_"
   },
   "outputs": [],
   "source": [
    "import torch\n",
    "from torch import nn\n",
    "import pytorch_lightning as pl"
   ]
  },
  {
   "cell_type": "markdown",
   "metadata": {
    "id": "PmQewYW-bPU5"
   },
   "source": [
    "# Config"
   ]
  },
  {
   "cell_type": "code",
   "execution_count": 18,
   "metadata": {
    "id": "tquaq01RbT6o"
   },
   "outputs": [],
   "source": [
    "config = dict(\n",
    "    project_name=\"quickdraw10\",\n",
    "    run_name=\"cnnmed-maxpool2-dropout_0.3\",\n",
    "\n",
    "    image_size = (28, 28),\n",
    "    classes = [\n",
    "        \"banana\",\n",
    "        \"baseball bat\",\n",
    "        \"carrot\",\n",
    "        \"clarinet\",\n",
    "        \"crayon\",\n",
    "        \"pencil\",\n",
    "        \"boomerang\",\n",
    "        \"hockey stick\",\n",
    "        \"fork\",\n",
    "        \"knife\",\n",
    "    ],\n",
    "\n",
    "    epochs = 20,\n",
    "    batch_size = 64,\n",
    "    lr = 1e-3,\n",
    "    seed = 42,\n",
    "\n",
    "    optimizer = \"Adam\",\n",
    "    optimizer_kwargs = {},\n",
    "    scheduler = None,\n",
    "    scheduler_kwargs = {},\n",
    ")"
   ]
  },
  {
   "cell_type": "markdown",
   "metadata": {
    "id": "NvDKVV4qGtzz"
   },
   "source": [
    "# Training and validation"
   ]
  },
  {
   "cell_type": "markdown",
   "metadata": {
    "id": "CoIboGyaYDbZ"
   },
   "source": [
    "## Initialize model"
   ]
  },
  {
   "cell_type": "code",
   "execution_count": 19,
   "metadata": {
    "colab": {
     "base_uri": "https://localhost:8080/"
    },
    "id": "qBxYaFGNWln2",
    "outputId": "b9e3f249-f71e-4a2e-b9cf-9cf973c5ae40"
   },
   "outputs": [
    {
     "name": "stdout",
     "output_type": "stream",
     "text": [
      "   | Name           | Type                    | Params\n",
      "------------------------------------------------------------\n",
      "0  | model          | CNNMed_MaxPool2_Dropout | 167 K \n",
      "1  | model.model    | Sequential              | 167 K \n",
      "2  | model.model.0  | Conv2d                  | 80    \n",
      "3  | model.model.1  | ReLU                    | 0     \n",
      "4  | model.model.2  | Conv2d                  | 2.3 K \n",
      "5  | model.model.3  | ReLU                    | 0     \n",
      "6  | model.model.4  | MaxPool2d               | 0     \n",
      "7  | model.model.5  | Dropout                 | 0     \n",
      "8  | model.model.6  | Conv2d                  | 37.0 K\n",
      "9  | model.model.7  | ReLU                    | 0     \n",
      "10 | model.model.8  | Flatten                 | 0     \n",
      "11 | model.model.9  | Linear                  | 128 K \n",
      "12 | model.model.10 | LogSoftmax              | 0     \n",
      "------------------------------------------------------------\n",
      "167 K     Trainable params\n",
      "0         Non-trainable params\n",
      "167 K     Total params\n",
      "0.670     Total estimated model params size (MB)\n"
     ]
    }
   ],
   "source": [
    "from deepdrive_course.quickdraw.models import (\n",
    "    CNN,\n",
    "    CNN_MaxPool2_Dropout,\n",
    "    CNNMed_MaxPool2_Dropout,\n",
    ")\n",
    "from deepdrive_course.quickdraw.modules import QuickdrawLit\n",
    "from pytorch_lightning.utilities.model_summary import ModelSummary\n",
    "\n",
    "# Select model\n",
    "# model = CNN()\n",
    "# model = CNN_MaxPool2_Dropout(0.3)\n",
    "model = CNNMed_MaxPool2_Dropout(0.3)\n",
    "\n",
    "# Wrap model in pl.LightningModule\n",
    "model = QuickdrawLit(model, config)\n",
    "\n",
    "summary = ModelSummary(model, max_depth=-1)\n",
    "print(summary)\n",
    "# print(model)"
   ]
  },
  {
   "cell_type": "markdown",
   "metadata": {
    "id": "UeouE0M8E4Th"
   },
   "source": [
    "## Reproducibility"
   ]
  },
  {
   "cell_type": "code",
   "execution_count": null,
   "metadata": {
    "id": "pzgpqdO1E7hI"
   },
   "outputs": [],
   "source": [
    "pl.seed_everything(config[\"seed\"])"
   ]
  },
  {
   "cell_type": "markdown",
   "metadata": {
    "id": "_Zl2FKVRC-d1"
   },
   "source": [
    "## Setup datasets and dataloaders"
   ]
  },
  {
   "cell_type": "code",
   "execution_count": 21,
   "metadata": {
    "id": "-8HapGi9YFQh"
   },
   "outputs": [],
   "source": [
    "from torch.utils.data import DataLoader\n",
    "from torchvision.transforms import ToTensor\n",
    "from deepdrive_course.quickdraw.datasets import QuickdrawDatasetInMemory\n",
    "from deepdrive_course.utils import stratified_train_test_split\n",
    "\n",
    "class_names = [\n",
    "    \"banana\",\n",
    "    \"baseball bat\",\n",
    "    \"carrot\",\n",
    "    \"clarinet\",\n",
    "    \"crayon\",\n",
    "    \"pencil\",\n",
    "    \"boomerang\",\n",
    "    \"hockey stick\",\n",
    "    \"fork\",\n",
    "    \"knife\",\n",
    "]\n",
    "\n",
    "transform = ToTensor()\n",
    "\n",
    "full_ds = QuickdrawDatasetInMemory(\n",
    "    root=\"data\", classes=class_names, transform=transform\n",
    ")\n",
    "train_ds, val_ds, _, _ = stratified_train_test_split(full_ds, train_size=0.8)\n",
    "\n",
    "train_dl = DataLoader(train_ds, batch_size=config[\"batch_size\"], shuffle=True)\n",
    "\n",
    "val_dl = DataLoader(val_ds, batch_size=config[\"batch_size\"], shuffle=False)"
   ]
  },
  {
   "cell_type": "markdown",
   "metadata": {
    "id": "kVsqxpY61q5Q"
   },
   "source": [
    "## Define callbacks"
   ]
  },
  {
   "cell_type": "code",
   "execution_count": 22,
   "metadata": {
    "id": "VJVl8Am61slm"
   },
   "outputs": [],
   "source": [
    "from pytorch_lightning.callbacks import (\n",
    "    EarlyStopping,\n",
    "    LearningRateMonitor,\n",
    "    ModelCheckpoint,\n",
    ")\n",
    "\n",
    "early_stopping_cb = EarlyStopping(\n",
    "    monitor=\"val_loss\", mode=\"min\", patience=10, check_on_train_epoch_end=False\n",
    ")\n",
    "\n",
    "checkpoint_cb = ModelCheckpoint(\n",
    "    monitor=\"val_loss\",\n",
    "    save_top_k=3,\n",
    "    dirpath=f'{config[\"project_name\"]}/best/{config[\"run_name\"]}',\n",
    "    filename=\"{epoch}-val_loss{val_loss:.2f}\",\n",
    ")\n",
    "\n",
    "lr_monitor_cb = LearningRateMonitor(logging_interval=\"step\")\n",
    "\n",
    "callbacks = [\n",
    "    # early_stopping_cb,\n",
    "    checkpoint_cb,\n",
    "    lr_monitor_cb,\n",
    "]"
   ]
  },
  {
   "cell_type": "markdown",
   "metadata": {
    "id": "hK0zwHK8ImXO"
   },
   "source": [
    "## Training and validation loops"
   ]
  },
  {
   "cell_type": "code",
   "execution_count": null,
   "metadata": {
    "id": "R30ZX6HUYOgh"
   },
   "outputs": [],
   "source": [
    "from pytorch_lightning.loggers import WandbLogger\n",
    "\n",
    "logger = WandbLogger(project=config[\"project_name\"], name=config[\"run_name\"])\n",
    "logger.experiment.config.update(config)\n",
    "logger.experiment.config[\"model\"] = model\n",
    "# logger.watch(model) # log gradients and model topology\n",
    "\n",
    "try:\n",
    "    trainer = pl.Trainer(\n",
    "        max_epochs=config[\"epochs\"],\n",
    "        logger=logger,\n",
    "        callbacks=callbacks,\n",
    "        num_sanity_val_steps=0,\n",
    "    )\n",
    "    trainer.fit(model, train_dl, val_dl)\n",
    "finally:\n",
    "    wandb.finish()"
   ]
  }
 ],
 "metadata": {
  "accelerator": "GPU",
  "colab": {
   "gpuType": "T4",
   "provenance": []
  },
  "kernelspec": {
   "display_name": "Python 3 (ipykernel)",
   "language": "python",
   "name": "python3"
  },
  "language_info": {
   "codemirror_mode": {
    "name": "ipython",
    "version": 3
   },
   "file_extension": ".py",
   "mimetype": "text/x-python",
   "name": "python",
   "nbconvert_exporter": "python",
   "pygments_lexer": "ipython3",
   "version": "3.10.6"
  }
 },
 "nbformat": 4,
 "nbformat_minor": 1
}
